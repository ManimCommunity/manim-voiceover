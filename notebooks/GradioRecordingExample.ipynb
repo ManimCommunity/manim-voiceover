{
 "cells": [
  {
   "cell_type": "code",
   "execution_count": null,
   "id": "091822ae-723e-4140-9d93-f8a6215a6665",
   "metadata": {},
   "outputs": [],
   "source": [
    "from manim import *\n",
    "from manim_voiceover import *\n",
    "from manim_voiceover.services.gradio import GradioRecordingService\n",
    "class GradioRecordingExample(VoiceoverScene):\n",
    "    def construct(self):\n",
    "        self.set_speech_service(\n",
    "            GradioRecordingService()\n",
    "        )\n",
    "\n",
    "        circle = Circle()\n",
    "        square = Square().shift(2 * RIGHT)\n",
    "\n",
    "        with self.voiceover(text=\"This circle is drawn as I speak.\") as tracker:\n",
    "            self.play(Create(circle), run_time=tracker.duration)\n",
    "\n",
    "        with self.voiceover(text=\"Let's shift it to the left 2 units.\") as tracker:\n",
    "            self.play(circle.animate.shift(2 * LEFT), run_time=tracker.duration)\n",
    "\n",
    "        with self.voiceover(text=\"Now, let's transform it into a square.\") as tracker:\n",
    "            self.play(Transform(circle, square), run_time=tracker.duration)\n",
    "\n",
    "        with self.voiceover(text=\"Thank you for watching.\"):\n",
    "            self.play(Uncreate(circle))\n",
    "\n",
    "        self.wait()"
   ]
  }
 ],
 "metadata": {
  "kernelspec": {
   "display_name": "Python 3 (ipykernel)",
   "language": "python",
   "name": "python3"
  },
  "language_info": {
   "codemirror_mode": {
    "name": "ipython",
    "version": 3
   },
   "file_extension": ".py",
   "mimetype": "text/x-python",
   "name": "python",
   "nbconvert_exporter": "python",
   "pygments_lexer": "ipython3",
   "version": "3.8.16"
  }
 },
 "nbformat": 4,
 "nbformat_minor": 5
}
